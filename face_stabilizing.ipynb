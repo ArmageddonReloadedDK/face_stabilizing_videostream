{
 "cells": [
  {
   "cell_type": "code",
   "execution_count": null,
   "metadata": {},
   "outputs": [],
   "source": [
    "import numpy as np\n",
    "import cv2\n",
    "from vidstab.VidStab import VidStab"
   ]
  },
  {
   "cell_type": "markdown",
   "metadata": {},
   "source": [
    "## Вывод изображения с вебкамеры"
   ]
  },
  {
   "cell_type": "code",
   "execution_count": null,
   "metadata": {},
   "outputs": [],
   "source": [
    "cap = cv2.VideoCapture(0)\n",
    " \n",
    "while(True):\n",
    "    ret, frame = cap.read()\n",
    "    #frame = cv2.flip(frame, -1) # Flip camera vertically\n",
    "    gray = cv2.cvtColor(frame, cv2.COLOR_BGR2GRAY)\n",
    "    \n",
    "    cv2.imshow('frame', frame)\n",
    "    cv2.imshow('gray', gray)\n",
    "    if cv2.waitKey(1) & 0xFF == ord('q'):\n",
    "        break\n",
    "\n"
   ]
  },
  {
   "cell_type": "markdown",
   "metadata": {},
   "source": [
    "## Вывод видеопотока с фиксацией лица"
   ]
  },
  {
   "cell_type": "code",
   "execution_count": null,
   "metadata": {},
   "outputs": [],
   "source": [
    "faceCascade=cv2.CascadeClassifier(cv2.data.haarcascades + \"haarcascade_frontalface_default.xml\")\n",
    "\n",
    "cap = cv2.VideoCapture(0)\n",
    "stabilizer = VidStab()\n",
    "\n",
    "N=3 # чем больше число - тем лучше сглаживание\n",
    "\n",
    "while True:\n",
    "   # try:\n",
    "        ret, img = cap.read()\n",
    "        gray = cv2.cvtColor(img, cv2.COLOR_BGR2GRAY)\n",
    "        faces = faceCascade.detectMultiScale(\n",
    "            gray,     \n",
    "            scaleFactor=1.2,\n",
    "            minNeighbors=5,     \n",
    "            minSize=(40, 40)\n",
    "        )\n",
    "        if len(faces)!=0:\n",
    "            x=faces[0][0]\n",
    "            y=faces[0][1]\n",
    "            w=faces[0][2]\n",
    "            h=faces[0][3]\n",
    "            w1=200\n",
    "            h1=300\n",
    "            x1=int(x+w/2-w1/2)\n",
    "            y1=int(y+h/2-h1/2)\n",
    "            crop_frame = img[y1:y1+h1, x1:x1+w1]\n",
    "\n",
    "            try:\n",
    "                stable_frame = stabilizer.stabilize_frame(input_frame=crop_frame,\n",
    "                                                   smoothing_window=N)\n",
    "                cv2.imshow('video',stable_frame)\n",
    "            except Exception:\n",
    "                pass\n",
    "            cv2.imshow('video',crop_frame)\n",
    "\n",
    "            k = cv2.waitKey(1) & 0xff\n",
    "            if k == 27: # press 'ESC' to quit\n",
    "                break\n",
    "        else:\n",
    "            continue\n",
    "cap.release()\n",
    "cv2.destroyAllWindows()"
   ]
  },
  {
   "cell_type": "markdown",
   "metadata": {},
   "source": [
    "## Освободим камеру от захвата"
   ]
  },
  {
   "cell_type": "code",
   "execution_count": null,
   "metadata": {},
   "outputs": [],
   "source": [
    "cap.release()\n",
    "cv2.destroyAllWindows()"
   ]
  }
 ],
 "metadata": {
  "kernelspec": {
   "display_name": "env_neuro",
   "language": "python",
   "name": "env_neuro"
  },
  "language_info": {
   "codemirror_mode": {
    "name": "ipython",
    "version": 3
   },
   "file_extension": ".py",
   "mimetype": "text/x-python",
   "name": "python",
   "nbconvert_exporter": "python",
   "pygments_lexer": "ipython3",
   "version": "3.6.10"
  }
 },
 "nbformat": 4,
 "nbformat_minor": 4
}
